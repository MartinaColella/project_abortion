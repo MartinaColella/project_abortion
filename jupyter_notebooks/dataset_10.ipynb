{
 "cells": [
  {
   "cell_type": "code",
   "execution_count": 1,
   "id": "0f12de8b",
   "metadata": {},
   "outputs": [],
   "source": [
    "import pandas as pd"
   ]
  },
  {
   "cell_type": "code",
   "execution_count": 2,
   "id": "7c22b614",
   "metadata": {},
   "outputs": [],
   "source": [
    "data = pd.read_csv('../raw/obiezione - all_years.csv')"
   ]
  },
  {
   "cell_type": "code",
   "execution_count": 4,
   "id": "660cf7f7",
   "metadata": {},
   "outputs": [
    {
     "data": {
      "text/plain": [
       "array(['Piemonte', \"Valle d'Aosta\", 'Lombardia', 'Bolzano', 'Trento',\n",
       "       'Veneto', 'Friuli Venezia Giulia', 'Liguria', 'Emilia Romagna',\n",
       "       'Toscana', 'Umbria', 'Marche', 'Lazio', 'Abruzzo', 'Molise',\n",
       "       'Campania', 'Puglia', 'Basilicata', 'Calabria', 'Sicilia',\n",
       "       'Sardegna'], dtype=object)"
      ]
     },
     "execution_count": 4,
     "metadata": {},
     "output_type": "execute_result"
    }
   ],
   "source": [
    "data['region'].unique()"
   ]
  },
  {
   "cell_type": "code",
   "execution_count": 6,
   "id": "e3b32a38",
   "metadata": {},
   "outputs": [],
   "source": [
    "data['region'] = data['region'].str.replace('Emilia Romagna' , 'Emilia-Romagna')"
   ]
  },
  {
   "cell_type": "code",
   "execution_count": 7,
   "id": "4b56d649",
   "metadata": {},
   "outputs": [],
   "source": [
    "data['region'] = data['region'].str.replace( \"Valle d'Aosta\" , \"Valle d'Aosta/Vallée d'Aoste\")"
   ]
  },
  {
   "cell_type": "code",
   "execution_count": 8,
   "id": "0d69aab5",
   "metadata": {},
   "outputs": [
    {
     "data": {
      "text/html": [
       "<div>\n",
       "<style scoped>\n",
       "    .dataframe tbody tr th:only-of-type {\n",
       "        vertical-align: middle;\n",
       "    }\n",
       "\n",
       "    .dataframe tbody tr th {\n",
       "        vertical-align: top;\n",
       "    }\n",
       "\n",
       "    .dataframe thead th {\n",
       "        text-align: right;\n",
       "    }\n",
       "</style>\n",
       "<table border=\"1\" class=\"dataframe\">\n",
       "  <thead>\n",
       "    <tr style=\"text-align: right;\">\n",
       "      <th></th>\n",
       "      <th>region</th>\n",
       "      <th>year</th>\n",
       "      <th>gynecologist</th>\n",
       "      <th>gynecologist_%</th>\n",
       "      <th>anesthetist</th>\n",
       "      <th>anesthetist_%</th>\n",
       "      <th>non_medical</th>\n",
       "      <th>non_medical_%</th>\n",
       "    </tr>\n",
       "  </thead>\n",
       "  <tbody>\n",
       "    <tr>\n",
       "      <th>0</th>\n",
       "      <td>Piemonte</td>\n",
       "      <td>2012</td>\n",
       "      <td>277</td>\n",
       "      <td>65,0</td>\n",
       "      <td>216</td>\n",
       "      <td>38,8</td>\n",
       "      <td>447</td>\n",
       "      <td>24,4</td>\n",
       "    </tr>\n",
       "    <tr>\n",
       "      <th>1</th>\n",
       "      <td>Valle d'Aosta/Vallée d'Aoste</td>\n",
       "      <td>2012</td>\n",
       "      <td>2</td>\n",
       "      <td>13,3</td>\n",
       "      <td>4</td>\n",
       "      <td>25,0</td>\n",
       "      <td>2</td>\n",
       "      <td>3,5</td>\n",
       "    </tr>\n",
       "    <tr>\n",
       "      <th>2</th>\n",
       "      <td>Lombardia</td>\n",
       "      <td>2012</td>\n",
       "      <td>565</td>\n",
       "      <td>63,6</td>\n",
       "      <td>602</td>\n",
       "      <td>41,3</td>\n",
       "      <td>1221</td>\n",
       "      <td>43,1</td>\n",
       "    </tr>\n",
       "    <tr>\n",
       "      <th>3</th>\n",
       "      <td>Bolzano</td>\n",
       "      <td>2012</td>\n",
       "      <td>69</td>\n",
       "      <td>87,3</td>\n",
       "      <td>28</td>\n",
       "      <td>40,6</td>\n",
       "      <td>168</td>\n",
       "      <td>68,0</td>\n",
       "    </tr>\n",
       "    <tr>\n",
       "      <th>4</th>\n",
       "      <td>Trento</td>\n",
       "      <td>2012</td>\n",
       "      <td>41</td>\n",
       "      <td>67,2</td>\n",
       "      <td>31</td>\n",
       "      <td>37,3</td>\n",
       "      <td>467</td>\n",
       "      <td>24,2</td>\n",
       "    </tr>\n",
       "    <tr>\n",
       "      <th>...</th>\n",
       "      <td>...</td>\n",
       "      <td>...</td>\n",
       "      <td>...</td>\n",
       "      <td>...</td>\n",
       "      <td>...</td>\n",
       "      <td>...</td>\n",
       "      <td>...</td>\n",
       "      <td>...</td>\n",
       "    </tr>\n",
       "    <tr>\n",
       "      <th>184</th>\n",
       "      <td>Puglia</td>\n",
       "      <td>2020</td>\n",
       "      <td>234</td>\n",
       "      <td>79,1</td>\n",
       "      <td>265</td>\n",
       "      <td>56,6</td>\n",
       "      <td>909</td>\n",
       "      <td>71,6</td>\n",
       "    </tr>\n",
       "    <tr>\n",
       "      <th>185</th>\n",
       "      <td>Basilicata</td>\n",
       "      <td>2020</td>\n",
       "      <td>35</td>\n",
       "      <td>81,4</td>\n",
       "      <td>48</td>\n",
       "      <td>71,6</td>\n",
       "      <td>72</td>\n",
       "      <td>56,7</td>\n",
       "    </tr>\n",
       "    <tr>\n",
       "      <th>186</th>\n",
       "      <td>Calabria</td>\n",
       "      <td>2020</td>\n",
       "      <td>71</td>\n",
       "      <td>67,6</td>\n",
       "      <td>63</td>\n",
       "      <td>75,9</td>\n",
       "      <td>169</td>\n",
       "      <td>63,1</td>\n",
       "    </tr>\n",
       "    <tr>\n",
       "      <th>187</th>\n",
       "      <td>Sicilia</td>\n",
       "      <td>2020</td>\n",
       "      <td>307</td>\n",
       "      <td>81,6</td>\n",
       "      <td>331</td>\n",
       "      <td>73,1</td>\n",
       "      <td>726</td>\n",
       "      <td>86,1</td>\n",
       "    </tr>\n",
       "    <tr>\n",
       "      <th>188</th>\n",
       "      <td>Sardegna</td>\n",
       "      <td>2020</td>\n",
       "      <td>100</td>\n",
       "      <td>55,6</td>\n",
       "      <td>90</td>\n",
       "      <td>49,7</td>\n",
       "      <td>171</td>\n",
       "      <td>35,7</td>\n",
       "    </tr>\n",
       "  </tbody>\n",
       "</table>\n",
       "<p>189 rows × 8 columns</p>\n",
       "</div>"
      ],
      "text/plain": [
       "                           region  year  gynecologist gynecologist_%  \\\n",
       "0                        Piemonte  2012           277           65,0   \n",
       "1    Valle d'Aosta/Vallée d'Aoste  2012             2           13,3   \n",
       "2                       Lombardia  2012           565           63,6   \n",
       "3                         Bolzano  2012            69           87,3   \n",
       "4                          Trento  2012            41           67,2   \n",
       "..                            ...   ...           ...            ...   \n",
       "184                        Puglia  2020           234           79,1   \n",
       "185                    Basilicata  2020            35           81,4   \n",
       "186                      Calabria  2020            71           67,6   \n",
       "187                       Sicilia  2020           307           81,6   \n",
       "188                      Sardegna  2020           100           55,6   \n",
       "\n",
       "     anesthetist anesthetist_%  non_medical non_medical_%  \n",
       "0            216          38,8          447          24,4  \n",
       "1              4          25,0            2           3,5  \n",
       "2            602          41,3         1221          43,1  \n",
       "3             28          40,6          168          68,0  \n",
       "4             31          37,3          467          24,2  \n",
       "..           ...           ...          ...           ...  \n",
       "184          265          56,6          909          71,6  \n",
       "185           48          71,6           72          56,7  \n",
       "186           63          75,9          169          63,1  \n",
       "187          331          73,1          726          86,1  \n",
       "188           90          49,7          171          35,7  \n",
       "\n",
       "[189 rows x 8 columns]"
      ]
     },
     "execution_count": 8,
     "metadata": {},
     "output_type": "execute_result"
    }
   ],
   "source": [
    "data"
   ]
  },
  {
   "cell_type": "code",
   "execution_count": 13,
   "id": "09030b35",
   "metadata": {},
   "outputs": [],
   "source": [
    "country = 'Italy'"
   ]
  },
  {
   "cell_type": "code",
   "execution_count": 14,
   "id": "9ef6c582",
   "metadata": {},
   "outputs": [],
   "source": [
    "data['country'] = country"
   ]
  },
  {
   "cell_type": "code",
   "execution_count": 24,
   "id": "582be0f9",
   "metadata": {},
   "outputs": [],
   "source": [
    "# melt \n",
    "data_melted = data.melt( id_vars = ['country', 'region', 'year'], \n",
    "                        value_vars = ['gynecologist', 'gynecologist_%', 'anesthetist', 'anesthetist_%', 'non_medical', 'non_medical_%'], \n",
    "                        var_name = 'type_of_doctor', \n",
    "                        value_name = 'value')"
   ]
  },
  {
   "cell_type": "code",
   "execution_count": 25,
   "id": "26688b99",
   "metadata": {},
   "outputs": [],
   "source": [
    "data_real = data_melted[data_melted['type_of_doctor'].isin(['gynecologist', 'anesthetist','non_medical'])]"
   ]
  },
  {
   "cell_type": "code",
   "execution_count": 40,
   "id": "1c60a79b",
   "metadata": {},
   "outputs": [
    {
     "data": {
      "text/html": [
       "<div>\n",
       "<style scoped>\n",
       "    .dataframe tbody tr th:only-of-type {\n",
       "        vertical-align: middle;\n",
       "    }\n",
       "\n",
       "    .dataframe tbody tr th {\n",
       "        vertical-align: top;\n",
       "    }\n",
       "\n",
       "    .dataframe thead th {\n",
       "        text-align: right;\n",
       "    }\n",
       "</style>\n",
       "<table border=\"1\" class=\"dataframe\">\n",
       "  <thead>\n",
       "    <tr style=\"text-align: right;\">\n",
       "      <th></th>\n",
       "      <th>country</th>\n",
       "      <th>region</th>\n",
       "      <th>year</th>\n",
       "      <th>type_of_doctor</th>\n",
       "      <th>value</th>\n",
       "    </tr>\n",
       "  </thead>\n",
       "  <tbody>\n",
       "    <tr>\n",
       "      <th>0</th>\n",
       "      <td>Italy</td>\n",
       "      <td>Piemonte</td>\n",
       "      <td>2012</td>\n",
       "      <td>gynecologist</td>\n",
       "      <td>277</td>\n",
       "    </tr>\n",
       "    <tr>\n",
       "      <th>1</th>\n",
       "      <td>Italy</td>\n",
       "      <td>Valle d'Aosta/Vallée d'Aoste</td>\n",
       "      <td>2012</td>\n",
       "      <td>gynecologist</td>\n",
       "      <td>2</td>\n",
       "    </tr>\n",
       "    <tr>\n",
       "      <th>2</th>\n",
       "      <td>Italy</td>\n",
       "      <td>Lombardia</td>\n",
       "      <td>2012</td>\n",
       "      <td>gynecologist</td>\n",
       "      <td>565</td>\n",
       "    </tr>\n",
       "    <tr>\n",
       "      <th>3</th>\n",
       "      <td>Italy</td>\n",
       "      <td>Bolzano</td>\n",
       "      <td>2012</td>\n",
       "      <td>gynecologist</td>\n",
       "      <td>69</td>\n",
       "    </tr>\n",
       "    <tr>\n",
       "      <th>4</th>\n",
       "      <td>Italy</td>\n",
       "      <td>Trento</td>\n",
       "      <td>2012</td>\n",
       "      <td>gynecologist</td>\n",
       "      <td>41</td>\n",
       "    </tr>\n",
       "    <tr>\n",
       "      <th>...</th>\n",
       "      <td>...</td>\n",
       "      <td>...</td>\n",
       "      <td>...</td>\n",
       "      <td>...</td>\n",
       "      <td>...</td>\n",
       "    </tr>\n",
       "    <tr>\n",
       "      <th>940</th>\n",
       "      <td>Italy</td>\n",
       "      <td>Puglia</td>\n",
       "      <td>2020</td>\n",
       "      <td>non_medical</td>\n",
       "      <td>909</td>\n",
       "    </tr>\n",
       "    <tr>\n",
       "      <th>941</th>\n",
       "      <td>Italy</td>\n",
       "      <td>Basilicata</td>\n",
       "      <td>2020</td>\n",
       "      <td>non_medical</td>\n",
       "      <td>72</td>\n",
       "    </tr>\n",
       "    <tr>\n",
       "      <th>942</th>\n",
       "      <td>Italy</td>\n",
       "      <td>Calabria</td>\n",
       "      <td>2020</td>\n",
       "      <td>non_medical</td>\n",
       "      <td>169</td>\n",
       "    </tr>\n",
       "    <tr>\n",
       "      <th>943</th>\n",
       "      <td>Italy</td>\n",
       "      <td>Sicilia</td>\n",
       "      <td>2020</td>\n",
       "      <td>non_medical</td>\n",
       "      <td>726</td>\n",
       "    </tr>\n",
       "    <tr>\n",
       "      <th>944</th>\n",
       "      <td>Italy</td>\n",
       "      <td>Sardegna</td>\n",
       "      <td>2020</td>\n",
       "      <td>non_medical</td>\n",
       "      <td>171</td>\n",
       "    </tr>\n",
       "  </tbody>\n",
       "</table>\n",
       "<p>567 rows × 5 columns</p>\n",
       "</div>"
      ],
      "text/plain": [
       "    country                        region  year type_of_doctor value\n",
       "0     Italy                      Piemonte  2012   gynecologist   277\n",
       "1     Italy  Valle d'Aosta/Vallée d'Aoste  2012   gynecologist     2\n",
       "2     Italy                     Lombardia  2012   gynecologist   565\n",
       "3     Italy                       Bolzano  2012   gynecologist    69\n",
       "4     Italy                        Trento  2012   gynecologist    41\n",
       "..      ...                           ...   ...            ...   ...\n",
       "940   Italy                        Puglia  2020    non_medical   909\n",
       "941   Italy                    Basilicata  2020    non_medical    72\n",
       "942   Italy                      Calabria  2020    non_medical   169\n",
       "943   Italy                       Sicilia  2020    non_medical   726\n",
       "944   Italy                      Sardegna  2020    non_medical   171\n",
       "\n",
       "[567 rows x 5 columns]"
      ]
     },
     "execution_count": 40,
     "metadata": {},
     "output_type": "execute_result"
    }
   ],
   "source": [
    "data_real"
   ]
  },
  {
   "cell_type": "code",
   "execution_count": 27,
   "id": "bc3f42fc",
   "metadata": {},
   "outputs": [],
   "source": [
    "data_percentage = data_melted[data_melted['type_of_doctor'].isin(['gynecologist_%', 'anesthetist_%','non_medical_%'])]"
   ]
  },
  {
   "cell_type": "code",
   "execution_count": 45,
   "id": "0043f0a8",
   "metadata": {},
   "outputs": [
    {
     "data": {
      "text/plain": [
       "array(['gynecologist', 'anesthetist_%', 'non_medical'], dtype=object)"
      ]
     },
     "execution_count": 45,
     "metadata": {},
     "output_type": "execute_result"
    }
   ],
   "source": [
    "data_percentage['type_of_doctor'].unique()"
   ]
  },
  {
   "cell_type": "code",
   "execution_count": 43,
   "id": "6c1c0ccb",
   "metadata": {},
   "outputs": [
    {
     "name": "stderr",
     "output_type": "stream",
     "text": [
      "/var/folders/33/6_3s22415y18bgznpc1317_40000gp/T/ipykernel_2810/3936339680.py:1: SettingWithCopyWarning: \n",
      "A value is trying to be set on a copy of a slice from a DataFrame.\n",
      "Try using .loc[row_indexer,col_indexer] = value instead\n",
      "\n",
      "See the caveats in the documentation: https://pandas.pydata.org/pandas-docs/stable/user_guide/indexing.html#returning-a-view-versus-a-copy\n",
      "  data_percentage['type_of_doctor'] = data_percentage['type_of_doctor'].str.replace('gynecologist_%' , 'gynecologist')\n"
     ]
    }
   ],
   "source": [
    "data_percentage['type_of_doctor'] = data_percentage['type_of_doctor'].str.replace('gynecologist_%' , 'gynecologist')"
   ]
  },
  {
   "cell_type": "code",
   "execution_count": 44,
   "id": "74b4e6d7",
   "metadata": {},
   "outputs": [
    {
     "name": "stderr",
     "output_type": "stream",
     "text": [
      "/var/folders/33/6_3s22415y18bgznpc1317_40000gp/T/ipykernel_2810/1080833410.py:1: SettingWithCopyWarning: \n",
      "A value is trying to be set on a copy of a slice from a DataFrame.\n",
      "Try using .loc[row_indexer,col_indexer] = value instead\n",
      "\n",
      "See the caveats in the documentation: https://pandas.pydata.org/pandas-docs/stable/user_guide/indexing.html#returning-a-view-versus-a-copy\n",
      "  data_percentage['type_of_doctor'] = data_percentage['type_of_doctor'].str.replace('non_medical_%' , 'non_medical')\n"
     ]
    }
   ],
   "source": [
    "data_percentage['type_of_doctor'] = data_percentage['type_of_doctor'].str.replace('non_medical_%' , 'non_medical')"
   ]
  },
  {
   "cell_type": "code",
   "execution_count": 46,
   "id": "1230eb73",
   "metadata": {},
   "outputs": [
    {
     "name": "stderr",
     "output_type": "stream",
     "text": [
      "/var/folders/33/6_3s22415y18bgznpc1317_40000gp/T/ipykernel_2810/241902111.py:1: SettingWithCopyWarning: \n",
      "A value is trying to be set on a copy of a slice from a DataFrame.\n",
      "Try using .loc[row_indexer,col_indexer] = value instead\n",
      "\n",
      "See the caveats in the documentation: https://pandas.pydata.org/pandas-docs/stable/user_guide/indexing.html#returning-a-view-versus-a-copy\n",
      "  data_percentage['type_of_doctor'] = data_percentage['type_of_doctor'].str.replace('anesthetist_%' , 'anesthetist')\n"
     ]
    }
   ],
   "source": [
    "data_percentage['type_of_doctor'] = data_percentage['type_of_doctor'].str.replace('anesthetist_%' , 'anesthetist')"
   ]
  },
  {
   "cell_type": "code",
   "execution_count": 47,
   "id": "a7fe054d",
   "metadata": {},
   "outputs": [],
   "source": [
    "data_merged = data_real.merge(data_percentage, on = ['region', 'year', 'country', 'type_of_doctor'], how = 'inner')"
   ]
  },
  {
   "cell_type": "code",
   "execution_count": 49,
   "id": "43b7cf65",
   "metadata": {},
   "outputs": [],
   "source": [
    "data_merged.columns = ['country', 'region', 'year', 'type_of_doctor', 'value_real', 'value_%']"
   ]
  },
  {
   "cell_type": "code",
   "execution_count": 60,
   "id": "975d5e60",
   "metadata": {},
   "outputs": [],
   "source": [
    "data_merged['value_%'] = data_merged['value_%'].str.replace(',', '.')"
   ]
  },
  {
   "cell_type": "code",
   "execution_count": 61,
   "id": "71794210",
   "metadata": {},
   "outputs": [
    {
     "data": {
      "text/html": [
       "<div>\n",
       "<style scoped>\n",
       "    .dataframe tbody tr th:only-of-type {\n",
       "        vertical-align: middle;\n",
       "    }\n",
       "\n",
       "    .dataframe tbody tr th {\n",
       "        vertical-align: top;\n",
       "    }\n",
       "\n",
       "    .dataframe thead th {\n",
       "        text-align: right;\n",
       "    }\n",
       "</style>\n",
       "<table border=\"1\" class=\"dataframe\">\n",
       "  <thead>\n",
       "    <tr style=\"text-align: right;\">\n",
       "      <th></th>\n",
       "      <th>country</th>\n",
       "      <th>region</th>\n",
       "      <th>year</th>\n",
       "      <th>type_of_doctor</th>\n",
       "      <th>value_real</th>\n",
       "      <th>value_%</th>\n",
       "    </tr>\n",
       "  </thead>\n",
       "  <tbody>\n",
       "    <tr>\n",
       "      <th>0</th>\n",
       "      <td>Italy</td>\n",
       "      <td>Piemonte</td>\n",
       "      <td>2012</td>\n",
       "      <td>gynecologist</td>\n",
       "      <td>277</td>\n",
       "      <td>65.0</td>\n",
       "    </tr>\n",
       "    <tr>\n",
       "      <th>1</th>\n",
       "      <td>Italy</td>\n",
       "      <td>Valle d'Aosta/Vallée d'Aoste</td>\n",
       "      <td>2012</td>\n",
       "      <td>gynecologist</td>\n",
       "      <td>2</td>\n",
       "      <td>13.3</td>\n",
       "    </tr>\n",
       "    <tr>\n",
       "      <th>2</th>\n",
       "      <td>Italy</td>\n",
       "      <td>Lombardia</td>\n",
       "      <td>2012</td>\n",
       "      <td>gynecologist</td>\n",
       "      <td>565</td>\n",
       "      <td>63.6</td>\n",
       "    </tr>\n",
       "    <tr>\n",
       "      <th>3</th>\n",
       "      <td>Italy</td>\n",
       "      <td>Bolzano</td>\n",
       "      <td>2012</td>\n",
       "      <td>gynecologist</td>\n",
       "      <td>69</td>\n",
       "      <td>87.3</td>\n",
       "    </tr>\n",
       "    <tr>\n",
       "      <th>4</th>\n",
       "      <td>Italy</td>\n",
       "      <td>Trento</td>\n",
       "      <td>2012</td>\n",
       "      <td>gynecologist</td>\n",
       "      <td>41</td>\n",
       "      <td>67.2</td>\n",
       "    </tr>\n",
       "    <tr>\n",
       "      <th>...</th>\n",
       "      <td>...</td>\n",
       "      <td>...</td>\n",
       "      <td>...</td>\n",
       "      <td>...</td>\n",
       "      <td>...</td>\n",
       "      <td>...</td>\n",
       "    </tr>\n",
       "    <tr>\n",
       "      <th>562</th>\n",
       "      <td>Italy</td>\n",
       "      <td>Puglia</td>\n",
       "      <td>2020</td>\n",
       "      <td>non_medical</td>\n",
       "      <td>909</td>\n",
       "      <td>71.6</td>\n",
       "    </tr>\n",
       "    <tr>\n",
       "      <th>563</th>\n",
       "      <td>Italy</td>\n",
       "      <td>Basilicata</td>\n",
       "      <td>2020</td>\n",
       "      <td>non_medical</td>\n",
       "      <td>72</td>\n",
       "      <td>56.7</td>\n",
       "    </tr>\n",
       "    <tr>\n",
       "      <th>564</th>\n",
       "      <td>Italy</td>\n",
       "      <td>Calabria</td>\n",
       "      <td>2020</td>\n",
       "      <td>non_medical</td>\n",
       "      <td>169</td>\n",
       "      <td>63.1</td>\n",
       "    </tr>\n",
       "    <tr>\n",
       "      <th>565</th>\n",
       "      <td>Italy</td>\n",
       "      <td>Sicilia</td>\n",
       "      <td>2020</td>\n",
       "      <td>non_medical</td>\n",
       "      <td>726</td>\n",
       "      <td>86.1</td>\n",
       "    </tr>\n",
       "    <tr>\n",
       "      <th>566</th>\n",
       "      <td>Italy</td>\n",
       "      <td>Sardegna</td>\n",
       "      <td>2020</td>\n",
       "      <td>non_medical</td>\n",
       "      <td>171</td>\n",
       "      <td>35.7</td>\n",
       "    </tr>\n",
       "  </tbody>\n",
       "</table>\n",
       "<p>567 rows × 6 columns</p>\n",
       "</div>"
      ],
      "text/plain": [
       "    country                        region  year type_of_doctor value_real  \\\n",
       "0     Italy                      Piemonte  2012   gynecologist        277   \n",
       "1     Italy  Valle d'Aosta/Vallée d'Aoste  2012   gynecologist          2   \n",
       "2     Italy                     Lombardia  2012   gynecologist        565   \n",
       "3     Italy                       Bolzano  2012   gynecologist         69   \n",
       "4     Italy                        Trento  2012   gynecologist         41   \n",
       "..      ...                           ...   ...            ...        ...   \n",
       "562   Italy                        Puglia  2020    non_medical        909   \n",
       "563   Italy                    Basilicata  2020    non_medical         72   \n",
       "564   Italy                      Calabria  2020    non_medical        169   \n",
       "565   Italy                       Sicilia  2020    non_medical        726   \n",
       "566   Italy                      Sardegna  2020    non_medical        171   \n",
       "\n",
       "    value_%  \n",
       "0      65.0  \n",
       "1      13.3  \n",
       "2      63.6  \n",
       "3      87.3  \n",
       "4      67.2  \n",
       "..      ...  \n",
       "562    71.6  \n",
       "563    56.7  \n",
       "564    63.1  \n",
       "565    86.1  \n",
       "566    35.7  \n",
       "\n",
       "[567 rows x 6 columns]"
      ]
     },
     "execution_count": 61,
     "metadata": {},
     "output_type": "execute_result"
    }
   ],
   "source": [
    "data_merged"
   ]
  },
  {
   "cell_type": "code",
   "execution_count": 62,
   "id": "6f1d3051",
   "metadata": {},
   "outputs": [],
   "source": [
    "data_merged['value_%'] = data_merged['value_%'].astype(float)"
   ]
  },
  {
   "cell_type": "code",
   "execution_count": 58,
   "id": "8841009f",
   "metadata": {},
   "outputs": [
    {
     "name": "stdout",
     "output_type": "stream",
     "text": [
      "<class 'pandas.core.frame.DataFrame'>\n",
      "Int64Index: 567 entries, 0 to 566\n",
      "Data columns (total 6 columns):\n",
      " #   Column          Non-Null Count  Dtype \n",
      "---  ------          --------------  ----- \n",
      " 0   country         567 non-null    object\n",
      " 1   region          567 non-null    object\n",
      " 2   year            567 non-null    int64 \n",
      " 3   type_of_doctor  567 non-null    object\n",
      " 4   value_real      567 non-null    object\n",
      " 5   value_%         567 non-null    object\n",
      "dtypes: int64(1), object(5)\n",
      "memory usage: 31.0+ KB\n"
     ]
    }
   ],
   "source": [
    "data_merged.info()"
   ]
  },
  {
   "cell_type": "code",
   "execution_count": 63,
   "id": "d7f1a86b",
   "metadata": {},
   "outputs": [],
   "source": [
    "data_merged.to_csv('../clean_data/10_objectors_region_correct.csv', index = False)"
   ]
  },
  {
   "cell_type": "code",
   "execution_count": 3,
   "id": "e1d1413e",
   "metadata": {},
   "outputs": [],
   "source": [
    "data = pd.read_csv('../clean_data/10_objectors_region_correct.csv')"
   ]
  },
  {
   "cell_type": "code",
   "execution_count": 19,
   "id": "5fa5214e",
   "metadata": {},
   "outputs": [],
   "source": [
    " data['region'] = data['region'].str.replace( \"Valle d'Aosta/Vallée D'Aoste\" , \"Valle D'Aosta/Vallée D'Aoste\")"
   ]
  },
  {
   "cell_type": "code",
   "execution_count": 20,
   "id": "17b01b59",
   "metadata": {},
   "outputs": [
    {
     "data": {
      "text/html": [
       "<div>\n",
       "<style scoped>\n",
       "    .dataframe tbody tr th:only-of-type {\n",
       "        vertical-align: middle;\n",
       "    }\n",
       "\n",
       "    .dataframe tbody tr th {\n",
       "        vertical-align: top;\n",
       "    }\n",
       "\n",
       "    .dataframe thead th {\n",
       "        text-align: right;\n",
       "    }\n",
       "</style>\n",
       "<table border=\"1\" class=\"dataframe\">\n",
       "  <thead>\n",
       "    <tr style=\"text-align: right;\">\n",
       "      <th></th>\n",
       "      <th>country</th>\n",
       "      <th>region</th>\n",
       "      <th>year</th>\n",
       "      <th>type_of_doctor</th>\n",
       "      <th>value_real</th>\n",
       "      <th>value_%</th>\n",
       "    </tr>\n",
       "  </thead>\n",
       "  <tbody>\n",
       "  </tbody>\n",
       "</table>\n",
       "</div>"
      ],
      "text/plain": [
       "Empty DataFrame\n",
       "Columns: [country, region, year, type_of_doctor, value_real, value_%]\n",
       "Index: []"
      ]
     },
     "execution_count": 20,
     "metadata": {},
     "output_type": "execute_result"
    }
   ],
   "source": [
    "data[data['region'] == \"Valle d'Aosta/Vallée D'Aoste\"]"
   ]
  },
  {
   "cell_type": "code",
   "execution_count": 21,
   "id": "3a0ec810",
   "metadata": {},
   "outputs": [],
   "source": [
    "data.to_csv('../clean_data/10_objectors_region_map.csv')"
   ]
  },
  {
   "cell_type": "code",
   "execution_count": null,
   "id": "56cb5db4",
   "metadata": {},
   "outputs": [],
   "source": []
  }
 ],
 "metadata": {
  "kernelspec": {
   "display_name": "Python 3 (ipykernel)",
   "language": "python",
   "name": "python3"
  },
  "language_info": {
   "codemirror_mode": {
    "name": "ipython",
    "version": 3
   },
   "file_extension": ".py",
   "mimetype": "text/x-python",
   "name": "python",
   "nbconvert_exporter": "python",
   "pygments_lexer": "ipython3",
   "version": "3.9.12"
  }
 },
 "nbformat": 4,
 "nbformat_minor": 5
}
