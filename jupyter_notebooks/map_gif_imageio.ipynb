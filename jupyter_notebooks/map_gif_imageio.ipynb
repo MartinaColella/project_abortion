{
 "cells": [
  {
   "cell_type": "code",
   "execution_count": 1,
   "id": "00668456",
   "metadata": {},
   "outputs": [],
   "source": [
    "import pandas as pd"
   ]
  },
  {
   "cell_type": "code",
   "execution_count": 2,
   "id": "900e94bb",
   "metadata": {},
   "outputs": [],
   "source": [
    "import imageio"
   ]
  },
  {
   "cell_type": "code",
   "execution_count": 6,
   "id": "a4c43d85",
   "metadata": {},
   "outputs": [
    {
     "name": "stderr",
     "output_type": "stream",
     "text": [
      "/var/folders/33/6_3s22415y18bgznpc1317_40000gp/T/ipykernel_2456/1176670330.py:5: DeprecationWarning: Starting with ImageIO v3 the behavior of this function will switch to that of iio.v3.imread. To keep the current behavior (and make this warning disappear) use `import imageio.v2 as imageio` or call `imageio.v2.imread` directly.\n",
      "  images.append(imageio.imread(path))\n"
     ]
    }
   ],
   "source": [
    "images = []\n",
    "\n",
    "for year in range(2012, 2021):\n",
    "    path = f'../gif-photos/map_{year}.png'\n",
    "    images.append(imageio.imread(path))\n",
    "    \n",
    "imageio.mimsave('../pp_graphs/map_gif.gif', images, fps =1)"
   ]
  },
  {
   "cell_type": "code",
   "execution_count": 8,
   "id": "0aa0c5a3",
   "metadata": {},
   "outputs": [
    {
     "name": "stderr",
     "output_type": "stream",
     "text": [
      "/var/folders/33/6_3s22415y18bgznpc1317_40000gp/T/ipykernel_2456/3812460676.py:5: DeprecationWarning: Starting with ImageIO v3 the behavior of this function will switch to that of iio.v3.imread. To keep the current behavior (and make this warning disappear) use `import imageio.v2 as imageio` or call `imageio.v2.imread` directly.\n",
      "  images.append(imageio.imread(path))\n"
     ]
    }
   ],
   "source": [
    "images = []\n",
    "\n",
    "for year in range(2012, 2021):\n",
    "    path = f'../gif_pic/map_{year}.png'\n",
    "    images.append(imageio.imread(path))\n",
    "    \n",
    "imageio.mimsave('../pp_graphs/map_years_gif.gif', images, fps =1)"
   ]
  },
  {
   "cell_type": "code",
   "execution_count": null,
   "id": "1bacee72",
   "metadata": {},
   "outputs": [],
   "source": []
  }
 ],
 "metadata": {
  "kernelspec": {
   "display_name": "Python 3 (ipykernel)",
   "language": "python",
   "name": "python3"
  },
  "language_info": {
   "codemirror_mode": {
    "name": "ipython",
    "version": 3
   },
   "file_extension": ".py",
   "mimetype": "text/x-python",
   "name": "python",
   "nbconvert_exporter": "python",
   "pygments_lexer": "ipython3",
   "version": "3.9.12"
  }
 },
 "nbformat": 4,
 "nbformat_minor": 5
}
